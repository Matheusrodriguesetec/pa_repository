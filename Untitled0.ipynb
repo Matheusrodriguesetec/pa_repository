{
  "nbformat": 4,
  "nbformat_minor": 0,
  "metadata": {
    "colab": {
      "provenance": [],
      "authorship_tag": "ABX9TyNNaB2dukQyFNU85F91Og2B",
      "include_colab_link": true
    },
    "kernelspec": {
      "name": "python3",
      "display_name": "Python 3"
    },
    "language_info": {
      "name": "python"
    }
  },
  "cells": [
    {
      "cell_type": "markdown",
      "metadata": {
        "id": "view-in-github",
        "colab_type": "text"
      },
      "source": [
        "<a href=\"https://colab.research.google.com/github/Matheusrodriguesetec/pa_repository/blob/main/Untitled0.ipynb\" target=\"_parent\"><img src=\"https://colab.research.google.com/assets/colab-badge.svg\" alt=\"Open In Colab\"/></a>"
      ]
    },
    {
      "cell_type": "markdown",
      "source": [
        "#Maldição"
      ],
      "metadata": {
        "id": "fE_tcXh4XdW1"
      }
    },
    {
      "cell_type": "code",
      "execution_count": null,
      "metadata": {
        "id": "jaZGOK2ABWey"
      },
      "outputs": [],
      "source": [
        "aula = \"Hello_world\""
      ]
    },
    {
      "cell_type": "code",
      "source": [
        "print(aula)"
      ],
      "metadata": {
        "colab": {
          "base_uri": "https://localhost:8080/"
        },
        "id": "5c7pqpZmVtFS",
        "outputId": "b25722a8-bee0-4201-8c2d-0a84822de504"
      },
      "execution_count": null,
      "outputs": [
        {
          "output_type": "stream",
          "name": "stdout",
          "text": [
            "Hello_world\n"
          ]
        }
      ]
    },
    {
      "cell_type": "code",
      "source": [
        "print(\"Hello world\")"
      ],
      "metadata": {
        "colab": {
          "base_uri": "https://localhost:8080/"
        },
        "id": "UpSPNsOiVgm6",
        "outputId": "bfd17acc-4deb-4a8a-cd94-5b8654c36b6a"
      },
      "execution_count": null,
      "outputs": [
        {
          "output_type": "stream",
          "name": "stdout",
          "text": [
            "Hello world\n"
          ]
        }
      ]
    },
    {
      "cell_type": "code",
      "source": [
        "aula"
      ],
      "metadata": {
        "colab": {
          "base_uri": "https://localhost:8080/",
          "height": 35
        },
        "id": "CvmqfKy6Vz2a",
        "outputId": "54268b06-1550-46c1-af2c-3e432f40b27a"
      },
      "execution_count": null,
      "outputs": [
        {
          "output_type": "execute_result",
          "data": {
            "text/plain": [
              "'Hello_world'"
            ],
            "application/vnd.google.colaboratory.intrinsic+json": {
              "type": "string"
            }
          },
          "metadata": {},
          "execution_count": 8
        }
      ]
    },
    {
      "cell_type": "markdown",
      "source": [
        "##Meu código vai ser tananan"
      ],
      "metadata": {
        "id": "1q9-U0ntXi0R"
      }
    },
    {
      "cell_type": "code",
      "source": [
        "#entrada\n",
        "lado = 4"
      ],
      "metadata": {
        "id": "NmLR4W25WaDa"
      },
      "execution_count": null,
      "outputs": []
    },
    {
      "cell_type": "code",
      "source": [
        "#processamento\n",
        "area = lado * lado"
      ],
      "metadata": {
        "id": "EKMk8DGyX6NQ"
      },
      "execution_count": null,
      "outputs": []
    },
    {
      "cell_type": "code",
      "source": [
        "#saída\n",
        "print(\"A area do quadrado que você me pediu é igual a:\", area, \"ja que o lado é:\", lado)"
      ],
      "metadata": {
        "colab": {
          "base_uri": "https://localhost:8080/"
        },
        "id": "_POvv7E8YbQu",
        "outputId": "e9d39f09-40a8-4889-e95f-be93a397db5e"
      },
      "execution_count": null,
      "outputs": [
        {
          "output_type": "stream",
          "name": "stdout",
          "text": [
            "A area do quadrado que você me pediu é igual a: 16 ja que o lado é: 4\n"
          ]
        }
      ]
    }
  ]
}