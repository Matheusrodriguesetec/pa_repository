{
  "nbformat": 4,
  "nbformat_minor": 0,
  "metadata": {
    "colab": {
      "provenance": [],
      "authorship_tag": "ABX9TyO6z0E+cIOA3RcHc83fXASj",
      "include_colab_link": true
    },
    "kernelspec": {
      "name": "python3",
      "display_name": "Python 3"
    },
    "language_info": {
      "name": "python"
    }
  },
  "cells": [
    {
      "cell_type": "markdown",
      "metadata": {
        "id": "view-in-github",
        "colab_type": "text"
      },
      "source": [
        "<a href=\"https://colab.research.google.com/github/Matheusrodriguesetec/pa_repository/blob/main/Variaveis_e_operadores_aritimeticos/variaveis_e_constantes.ipynb\" target=\"_parent\"><img src=\"https://colab.research.google.com/assets/colab-badge.svg\" alt=\"Open In Colab\"/></a>"
      ]
    },
    {
      "cell_type": "markdown",
      "source": [
        "##VARIAVEIS E CONSTANTES##"
      ],
      "metadata": {
        "id": "tAX8kK5WgR1r"
      }
    },
    {
      "cell_type": "code",
      "execution_count": null,
      "metadata": {
        "id": "mVdgN5KWf4w1"
      },
      "outputs": [],
      "source": [
        "#usuario#\n",
        "\n",
        "idade = 15\n",
        "\n",
        "altura = \"1.80\"\n",
        "\n",
        "nome = \"Matheus Rodrigues\"\n",
        "\n",
        "vai = True"
      ]
    },
    {
      "cell_type": "code",
      "source": [
        "nomes = [\"Matheus\", \"Gomes\", \"rodrigues\"]\n",
        "nomes2 = (\"Letícia\", \"Pedro\", \"rodrigues\")\n",
        "tudo = {nome: \"matheus gomes\", idade: 15, altura: 1.80}"
      ],
      "metadata": {
        "id": "PzcYYsv4iZbO"
      },
      "execution_count": null,
      "outputs": []
    },
    {
      "cell_type": "code",
      "source": [
        "print(nome)\n",
        "print(nomes)\n",
        "print(nomes2)"
      ],
      "metadata": {
        "colab": {
          "base_uri": "https://localhost:8080/"
        },
        "id": "SWgj-5NdjQ4R",
        "outputId": "7242c7c8-b5c8-43ef-b38f-4ebde1b1d244"
      },
      "execution_count": null,
      "outputs": [
        {
          "output_type": "stream",
          "name": "stdout",
          "text": [
            "Matheus Rodrigues\n",
            "['Matheus', 'Gomes', 'rodrigues']\n",
            "('Letícia', 'Pedro', 'rodrigues')\n"
          ]
        }
      ]
    },
    {
      "cell_type": "code",
      "source": [
        "print(type(idade))\n",
        "print(type(altura))\n",
        "print(type(vai))\n",
        "print(type(nome))\n",
        "print(type(nomes))\n",
        "print(type(nomes2))\n",
        "print(type(tudo))"
      ],
      "metadata": {
        "colab": {
          "base_uri": "https://localhost:8080/"
        },
        "id": "cfzjnPyckJT7",
        "outputId": "b615f34e-d30b-40fa-b104-adf939ece676"
      },
      "execution_count": null,
      "outputs": [
        {
          "output_type": "stream",
          "name": "stdout",
          "text": [
            "<class 'int'>\n",
            "<class 'float'>\n",
            "<class 'bool'>\n",
            "<class 'str'>\n",
            "<class 'list'>\n",
            "<class 'tuple'>\n",
            "<class 'dict'>\n"
          ]
        }
      ]
    },
    {
      "cell_type": "code",
      "source": [
        "#SET tira valores repetidos e coloca em ordém crescednte/alfabética#\n",
        "set(nomes2)"
      ],
      "metadata": {
        "colab": {
          "base_uri": "https://localhost:8080/"
        },
        "id": "L3bsOzw3mvEK",
        "outputId": "7ff314b7-90e0-4b14-fefb-03c48febd77c"
      },
      "execution_count": null,
      "outputs": [
        {
          "output_type": "execute_result",
          "data": {
            "text/plain": [
              "{'Letícia', 'Pedro', 'rodrigues'}"
            ]
          },
          "metadata": {},
          "execution_count": 24
        }
      ]
    },
    {
      "cell_type": "code",
      "source": [
        "print(\"o nome dele é: \", nome,\"||\" \"sua idade é: \", idade,\"||\" \"a altura é: \", altura)"
      ],
      "metadata": {
        "colab": {
          "base_uri": "https://localhost:8080/"
        },
        "id": "mSlUtcSKpRku",
        "outputId": "1122011d-f8b5-417f-e094-ce0ef7c8f858"
      },
      "execution_count": null,
      "outputs": [
        {
          "output_type": "stream",
          "name": "stdout",
          "text": [
            "o nome dele é:  Matheus Rodrigues ||sua idade é:  15 ||a altura é:  1.80\n"
          ]
        }
      ]
    },
    {
      "cell_type": "code",
      "source": [
        "print(f\"o nome dele é {nome}, e sua idade é {idade}\")"
      ],
      "metadata": {
        "colab": {
          "base_uri": "https://localhost:8080/"
        },
        "id": "Jb-SbR7msYbg",
        "outputId": "5a0f0b80-9c4c-4608-e843-103dd54ce08a"
      },
      "execution_count": null,
      "outputs": [
        {
          "output_type": "stream",
          "name": "stdout",
          "text": [
            "o nome dele é Matheus Rodrigues, e sua idade é 15\n"
          ]
        }
      ]
    },
    {
      "cell_type": "markdown",
      "source": [
        "#Área do circulo"
      ],
      "metadata": {
        "id": "kqEOrfq_vhtE"
      }
    },
    {
      "cell_type": "code",
      "source": [
        "PI = 3.14159\n",
        "raio = float(input(\"digite o valor do raio do circulo! \"))\n",
        "area = PI * (raio**2)\n",
        "print(\"◉ = \", area)"
      ],
      "metadata": {
        "colab": {
          "base_uri": "https://localhost:8080/"
        },
        "id": "VJYxfBQrvujp",
        "outputId": "84567764-78d2-4977-d099-0342c69fe3ff"
      },
      "execution_count": null,
      "outputs": [
        {
          "output_type": "stream",
          "name": "stdout",
          "text": [
            "digite o valor do raio do circulo! 2\n",
            "◉ =  12.56636\n"
          ]
        }
      ]
    },
    {
      "cell_type": "markdown",
      "source": [
        "#Exercícios"
      ],
      "metadata": {
        "id": "T4bJtSQxpD_n"
      }
    },
    {
      "cell_type": "code",
      "source": [
        "#area do retangulo\n",
        "\n",
        "base = float(input(\"digite o lado do seu retangulo: \"))\n",
        "altura = float(input(\"agora digite a altura de seu retangulo: \"))\n",
        "\n",
        "print(\"obrigado! estamos processando a area.\")\n",
        "print(\"...\")\n",
        "\n",
        "area = base * altura\n",
        "\n",
        "print(\"a area do seu retangulo é: \", area)"
      ],
      "metadata": {
        "colab": {
          "base_uri": "https://localhost:8080/"
        },
        "id": "Q2KIAmuTpIYX",
        "outputId": "368499b9-d421-42dc-af44-0e2474aa7e80"
      },
      "execution_count": 2,
      "outputs": [
        {
          "output_type": "stream",
          "name": "stdout",
          "text": [
            "digite o lado do seu retangulo: 6\n",
            "agora digite a altura de seu retangulo: 5\n",
            "obrigado! estamos processando a area.\n",
            "...\n",
            "a area do seu retangulo é:  30.0\n"
          ]
        }
      ]
    },
    {
      "cell_type": "code",
      "source": [
        "#perímetro do circulo\n",
        "PI = 3.1416\n",
        "\n",
        "raio = float(input(\"Qual é o raio do seu circulo? \"))\n",
        "print(\"ok...\")\n",
        "print(\"processando o períetro: \")\n",
        "\n",
        "peri = 2 * PI * raio\n",
        "\n",
        "print(f\"seu perímetro é igual a: {peri:.2f}\")"
      ],
      "metadata": {
        "colab": {
          "base_uri": "https://localhost:8080/"
        },
        "id": "jtGBBidfqOO7",
        "outputId": "a2145f7d-a76b-454f-c855-530220cc08ba"
      },
      "execution_count": 14,
      "outputs": [
        {
          "output_type": "stream",
          "name": "stdout",
          "text": [
            "Qual é o raio do seu circulo? 2\n",
            "ok...\n",
            "processando o períetro: \n",
            "seu perímetro é igual a: 12.57\n",
            "você gostaria da explicação do calculo?não\n",
            "o prímetro é calculado com a formula 2 * pi * raio\n"
          ]
        }
      ]
    },
    {
      "cell_type": "code",
      "source": [
        "while True:\n",
        "    pergunta = input(\"Você quer a conversão para Celcius ou Fahrenheit? \").lower()\n",
        "\n",
        "    if \"fahrenheit\" in pergunta:\n",
        "      print(\"ok\")\n",
        "      celcius = float(input('quantos graus estão? '))\n",
        "      fahrenheit = celcius * 1.8 + 32\n",
        "      print(f\"estão {fahrenheit:.2f} fahrenheit nos estados unidos\")\n",
        "      break\n",
        "\n",
        "    if \"celcius\" in pergunta:\n",
        "        print(\"Aqui está a conversão para Celcius.\")\n",
        "        fahrenheit = float(input(\"quantos fahrenheit então nos estados unidos? \"))\n",
        "        print(\"convertendo para celcius...\")\n",
        "\n",
        "        celcius = (fahrenheit-32)*5/9\n",
        "\n",
        "        print(f\"a temperatua esta em: {celcius:.2f} celcius\")\n",
        "        break"
      ],
      "metadata": {
        "colab": {
          "base_uri": "https://localhost:8080/"
        },
        "id": "nFFOk3aEr85g",
        "outputId": "eac0c7ed-d357-49ee-c60e-ae03b8bd5a33"
      },
      "execution_count": 23,
      "outputs": [
        {
          "output_type": "stream",
          "name": "stdout",
          "text": [
            "Você quer a conversão para Celcius ou Fahrenheit? fahrenheit\n",
            "ok\n",
            "quantos graus estão? 32\n",
            "estão 89.60 fahrenheit nos estados unidos\n"
          ]
        }
      ]
    },
    {
      "cell_type": "code",
      "source": [
        "#IMC\n",
        "\n",
        "print(\"Índice de Massa Corporal\")\n",
        "peso = float(input(\"qual seu peso? \"))\n",
        "altura = float(input('qual é sua altura? (sem mentiras. hein)' ))\n",
        "\n",
        "imc = peso/altura**2\n",
        "\n",
        "print(f\"seu Índice de Massa Corporal é: {imc:.2f}\")"
      ],
      "metadata": {
        "colab": {
          "base_uri": "https://localhost:8080/"
        },
        "id": "zq-b8LlHuf6H",
        "outputId": "0c8284bd-2da5-4853-eded-e2426695c984"
      },
      "execution_count": 24,
      "outputs": [
        {
          "output_type": "stream",
          "name": "stdout",
          "text": [
            "Índice de Massa Corporal\n",
            "qual seu peso? 90\n",
            "qual é sua altura? (sem mentiras. hein)1.79\n",
            "seu Índice de Massa Corporal é: 28.09\n"
          ]
        }
      ]
    }
  ]
}