{
  "nbformat": 4,
  "nbformat_minor": 0,
  "metadata": {
    "colab": {
      "provenance": [],
      "authorship_tag": "ABX9TyORfCWuNEnBzvvX8rDeCH5M",
      "include_colab_link": true
    },
    "kernelspec": {
      "name": "python3",
      "display_name": "Python 3"
    },
    "language_info": {
      "name": "python"
    }
  },
  "cells": [
    {
      "cell_type": "markdown",
      "metadata": {
        "id": "view-in-github",
        "colab_type": "text"
      },
      "source": [
        "<a href=\"https://colab.research.google.com/github/Matheusrodriguesetec/pa_repository/blob/main/Variaveis_e_operadores_aritimeticos/variaveis_e_constantes.ipynb\" target=\"_parent\"><img src=\"https://colab.research.google.com/assets/colab-badge.svg\" alt=\"Open In Colab\"/></a>"
      ]
    },
    {
      "cell_type": "markdown",
      "source": [
        "##VARIAVEIS E CONSTANTES##"
      ],
      "metadata": {
        "id": "tAX8kK5WgR1r"
      }
    },
    {
      "cell_type": "code",
      "execution_count": null,
      "metadata": {
        "id": "mVdgN5KWf4w1"
      },
      "outputs": [],
      "source": [
        "#usuario#\n",
        "\n",
        "idade = 15\n",
        "\n",
        "altura = \"1.80\"\n",
        "\n",
        "nome = \"Matheus Rodrigues\"\n",
        "\n",
        "vai = True"
      ]
    },
    {
      "cell_type": "code",
      "source": [
        "nomes = [\"Matheus\", \"Gomes\", \"rodrigues\"]\n",
        "nomes2 = (\"Letícia\", \"Pedro\", \"rodrigues\")\n",
        "tudo = {nome: \"matheus gomes\", idade: 15, altura: 1.80}"
      ],
      "metadata": {
        "id": "PzcYYsv4iZbO"
      },
      "execution_count": null,
      "outputs": []
    },
    {
      "cell_type": "code",
      "source": [
        "print(nome)\n",
        "print(nomes)\n",
        "print(nomes2)"
      ],
      "metadata": {
        "colab": {
          "base_uri": "https://localhost:8080/"
        },
        "id": "SWgj-5NdjQ4R",
        "outputId": "7242c7c8-b5c8-43ef-b38f-4ebde1b1d244"
      },
      "execution_count": null,
      "outputs": [
        {
          "output_type": "stream",
          "name": "stdout",
          "text": [
            "Matheus Rodrigues\n",
            "['Matheus', 'Gomes', 'rodrigues']\n",
            "('Letícia', 'Pedro', 'rodrigues')\n"
          ]
        }
      ]
    },
    {
      "cell_type": "code",
      "source": [
        "print(type(idade))\n",
        "print(type(altura))\n",
        "print(type(vai))\n",
        "print(type(nome))\n",
        "print(type(nomes))\n",
        "print(type(nomes2))\n",
        "print(type(tudo))"
      ],
      "metadata": {
        "colab": {
          "base_uri": "https://localhost:8080/"
        },
        "id": "cfzjnPyckJT7",
        "outputId": "b615f34e-d30b-40fa-b104-adf939ece676"
      },
      "execution_count": null,
      "outputs": [
        {
          "output_type": "stream",
          "name": "stdout",
          "text": [
            "<class 'int'>\n",
            "<class 'float'>\n",
            "<class 'bool'>\n",
            "<class 'str'>\n",
            "<class 'list'>\n",
            "<class 'tuple'>\n",
            "<class 'dict'>\n"
          ]
        }
      ]
    },
    {
      "cell_type": "code",
      "source": [
        "#SET tira valores repetidos e coloca em ordém crescednte/alfabética#\n",
        "set(nomes2)"
      ],
      "metadata": {
        "colab": {
          "base_uri": "https://localhost:8080/"
        },
        "id": "L3bsOzw3mvEK",
        "outputId": "7ff314b7-90e0-4b14-fefb-03c48febd77c"
      },
      "execution_count": null,
      "outputs": [
        {
          "output_type": "execute_result",
          "data": {
            "text/plain": [
              "{'Letícia', 'Pedro', 'rodrigues'}"
            ]
          },
          "metadata": {},
          "execution_count": 24
        }
      ]
    },
    {
      "cell_type": "code",
      "source": [
        "print(\"o nome dele é: \", nome,\"||\" \"sua idade é: \", idade,\"||\" \"a altura é: \", altura)"
      ],
      "metadata": {
        "colab": {
          "base_uri": "https://localhost:8080/"
        },
        "id": "mSlUtcSKpRku",
        "outputId": "1122011d-f8b5-417f-e094-ce0ef7c8f858"
      },
      "execution_count": null,
      "outputs": [
        {
          "output_type": "stream",
          "name": "stdout",
          "text": [
            "o nome dele é:  Matheus Rodrigues ||sua idade é:  15 ||a altura é:  1.80\n"
          ]
        }
      ]
    },
    {
      "cell_type": "code",
      "source": [
        "print(f\"o nome dele é {nome}, e sua idade é {idade}\")"
      ],
      "metadata": {
        "colab": {
          "base_uri": "https://localhost:8080/"
        },
        "id": "Jb-SbR7msYbg",
        "outputId": "5a0f0b80-9c4c-4608-e843-103dd54ce08a"
      },
      "execution_count": null,
      "outputs": [
        {
          "output_type": "stream",
          "name": "stdout",
          "text": [
            "o nome dele é Matheus Rodrigues, e sua idade é 15\n"
          ]
        }
      ]
    },
    {
      "cell_type": "markdown",
      "source": [
        "#Área do circulo"
      ],
      "metadata": {
        "id": "kqEOrfq_vhtE"
      }
    },
    {
      "cell_type": "code",
      "source": [
        "PI = 3.14159\n",
        "raio = float(input(\"digite o valor do raio do circulo! \"))\n",
        "area = PI * (raio**2)\n",
        "print(\"◉ = \", area)"
      ],
      "metadata": {
        "colab": {
          "base_uri": "https://localhost:8080/"
        },
        "id": "VJYxfBQrvujp",
        "outputId": "84567764-78d2-4977-d099-0342c69fe3ff"
      },
      "execution_count": null,
      "outputs": [
        {
          "output_type": "stream",
          "name": "stdout",
          "text": [
            "digite o valor do raio do circulo! 2\n",
            "◉ =  12.56636\n"
          ]
        }
      ]
    }
  ]
}