{
  "nbformat": 4,
  "nbformat_minor": 0,
  "metadata": {
    "colab": {
      "provenance": [],
      "authorship_tag": "ABX9TyO5XgeN5GOIi5C2IPYw3zG5",
      "include_colab_link": true
    },
    "kernelspec": {
      "name": "python3",
      "display_name": "Python 3"
    },
    "language_info": {
      "name": "python"
    }
  },
  "cells": [
    {
      "cell_type": "markdown",
      "metadata": {
        "id": "view-in-github",
        "colab_type": "text"
      },
      "source": [
        "<a href=\"https://colab.research.google.com/github/Matheusrodriguesetec/pa_repository/blob/main/lista_tupla_dicionario_sting/exercicios.ipynb\" target=\"_parent\"><img src=\"https://colab.research.google.com/assets/colab-badge.svg\" alt=\"Open In Colab\"/></a>"
      ]
    },
    {
      "cell_type": "markdown",
      "source": [
        "# EXERCICIOS PARTE 1 (STRING)"
      ],
      "metadata": {
        "id": "GL-IalH5-vFT"
      }
    },
    {
      "cell_type": "markdown",
      "source": [
        " 1 - Use o método len para imprimir o comprimento da string."
      ],
      "metadata": {
        "id": "fUgfFT_h-1DC"
      }
    },
    {
      "cell_type": "code",
      "source": [
        "x = \"Hello World\"\n",
        "print(len(x))"
      ],
      "metadata": {
        "colab": {
          "base_uri": "https://localhost:8080/"
        },
        "id": "uBTK6lxI-4pa",
        "outputId": "211f93bd-18b8-4b69-f915-5e8b2fa669ec"
      },
      "execution_count": 19,
      "outputs": [
        {
          "output_type": "stream",
          "name": "stdout",
          "text": [
            "11\n"
          ]
        }
      ]
    },
    {
      "cell_type": "markdown",
      "source": [
        " 2 - Obtenha o primeiro caractere da string txt."
      ],
      "metadata": {
        "id": "-NKRCr8L-7uq"
      }
    },
    {
      "cell_type": "code",
      "source": [
        "txt = \"Hello World\"\n",
        "txt[0]"
      ],
      "metadata": {
        "colab": {
          "base_uri": "https://localhost:8080/",
          "height": 35
        },
        "id": "1Qt3D3Ud--m6",
        "outputId": "40f601cc-2978-4203-e405-e4f5126694f4"
      },
      "execution_count": 18,
      "outputs": [
        {
          "output_type": "execute_result",
          "data": {
            "text/plain": [
              "'H'"
            ],
            "application/vnd.google.colaboratory.intrinsic+json": {
              "type": "string"
            }
          },
          "metadata": {},
          "execution_count": 18
        }
      ]
    },
    {
      "cell_type": "markdown",
      "source": [
        "3 - Obtenha os caracteres do índice 2 ao índice 4 ( llo)."
      ],
      "metadata": {
        "id": "Zvft68cJ_Axs"
      }
    },
    {
      "cell_type": "code",
      "source": [
        "txt = \"Hello World\"\n",
        "txt[2: -6:]"
      ],
      "metadata": {
        "colab": {
          "base_uri": "https://localhost:8080/",
          "height": 35
        },
        "id": "GWSVZuol_D9k",
        "outputId": "3f2eb22c-b262-4cd7-cde6-72acfa3aad14"
      },
      "execution_count": 17,
      "outputs": [
        {
          "output_type": "execute_result",
          "data": {
            "text/plain": [
              "'llo'"
            ],
            "application/vnd.google.colaboratory.intrinsic+json": {
              "type": "string"
            }
          },
          "metadata": {},
          "execution_count": 17
        }
      ]
    },
    {
      "cell_type": "markdown",
      "source": [
        " 4 - Converta o valor de txt para maiúsculas."
      ],
      "metadata": {
        "id": "W6EtyToF_Ggx"
      }
    },
    {
      "cell_type": "code",
      "source": [
        "txt = \"Hello World\"\n",
        "txt.upper()"
      ],
      "metadata": {
        "colab": {
          "base_uri": "https://localhost:8080/",
          "height": 35
        },
        "id": "2ZT55u7i_Ipp",
        "outputId": "1c4f2210-9293-46a1-bd5b-c3b7da03668e"
      },
      "execution_count": 16,
      "outputs": [
        {
          "output_type": "execute_result",
          "data": {
            "text/plain": [
              "'HELLO WORLD'"
            ],
            "application/vnd.google.colaboratory.intrinsic+json": {
              "type": "string"
            }
          },
          "metadata": {},
          "execution_count": 16
        }
      ]
    },
    {
      "cell_type": "markdown",
      "source": [
        " 5 - Conte quantas vezes aparece a palavra \"de\" na string abaixo"
      ],
      "metadata": {
        "id": "ZVdiWkM3_KDb"
      }
    },
    {
      "cell_type": "code",
      "source": [
        "txt = \"Eu gosto de vijar, tomar vinho, de estudar estudar programação, de estudar Pyhon\"\n",
        "txt.count('de')"
      ],
      "metadata": {
        "colab": {
          "base_uri": "https://localhost:8080/"
        },
        "id": "JEPq--6S_M3p",
        "outputId": "9df2a8eb-6934-45d1-d6f1-a1e13d9c5e27"
      },
      "execution_count": 15,
      "outputs": [
        {
          "output_type": "execute_result",
          "data": {
            "text/plain": [
              "3"
            ]
          },
          "metadata": {},
          "execution_count": 15
        }
      ]
    },
    {
      "cell_type": "markdown",
      "source": [
        "\n",
        " 6 - Separe a frase abaixo toda vez que encontrar um vírgula"
      ],
      "metadata": {
        "id": "ghc588bO_OIh"
      }
    },
    {
      "cell_type": "code",
      "source": [
        "txt = \"Eu gosto de vijar, tomar vinho, de estudar estudar programação, de estudar Pyhon\"\n",
        "txt.split(\",\")"
      ],
      "metadata": {
        "colab": {
          "base_uri": "https://localhost:8080/"
        },
        "id": "Cm-0xRjI_SqR",
        "outputId": "957bec22-1020-4049-a5b6-5d873ae9053e"
      },
      "execution_count": 14,
      "outputs": [
        {
          "output_type": "execute_result",
          "data": {
            "text/plain": [
              "['Eu gosto de vijar',\n",
              " ' tomar vinho',\n",
              " ' de estudar estudar programação',\n",
              " ' de estudar Pyhon']"
            ]
          },
          "metadata": {},
          "execution_count": 14
        }
      ]
    },
    {
      "cell_type": "markdown",
      "source": [
        "7 - Peça ao usuário uma frase e substitua todas as ocorrências de espaço por “#”."
      ],
      "metadata": {
        "id": "aEIBCwt-_era"
      }
    },
    {
      "cell_type": "code",
      "source": [
        "ate = input(str(\"me dê uma frase: \"))\n",
        "uma = ate.replace(\" \", \"#\")\n",
        "print(uma)"
      ],
      "metadata": {
        "id": "PHCULPI2_iN4"
      },
      "execution_count": null,
      "outputs": []
    },
    {
      "cell_type": "markdown",
      "source": [
        " 8 - Faça um programa que retorne True se duas strings lidas do teclado são palíndromas mútuas, ou seja, se uma é igual à outra quando lida de traz para frente ou False, se não forem.\n",
        "# Por exemplo: amor e roma"
      ],
      "metadata": {
        "id": "8YhfOQe__keh"
      }
    },
    {
      "cell_type": "code",
      "execution_count": 20,
      "metadata": {
        "colab": {
          "base_uri": "https://localhost:8080/"
        },
        "id": "_6mZIXKL2Fh3",
        "outputId": "9017a8d2-09f2-4468-9d32-1ef53f43163a"
      },
      "outputs": [
        {
          "output_type": "stream",
          "name": "stdout",
          "text": [
            "me dê uma palavra: ala\n",
            "me dê a segunda palavra: ala\n",
            "suas palavras são palindromas\n",
            "sua primeira palavra é palindroma a ela mesma\n",
            "sua segunda palavra é palindroma a ela mesma\n"
          ]
        }
      ],
      "source": [
        "str1 = input(str(\"me dê uma palavra: \"))\n",
        "str2 = input(str(\"me dê a segunda palavra: \"))\n",
        "\n",
        "str1 = str1.lower()\n",
        "str2 = str2.lower()\n",
        "\n",
        "pros = str1[::-1] == str2\n",
        "if pros == True:\n",
        "  print('suas palavras são palindromas')\n",
        "else: print('suas palavras não são palindromas')\n",
        "\n",
        "pros2 = str1[::-1] == str1\n",
        "if pros2 == True:\n",
        "  print('sua primeira palavra é palindroma a ela mesma')\n",
        "else: print('sua primeira palavra não é palindroma com ela mesma')\n",
        "\n",
        "pros3 = str2[::-1] == str2\n",
        "if pros3 == True:\n",
        "  print('sua segunda palavra é palindroma a ela mesma')\n",
        "else: print('sua segunda palavra não é palindroma com ela mesma')"
      ]
    },
    {
      "cell_type": "markdown",
      "source": [
        "# EXERCICIOS PARTE 2"
      ],
      "metadata": {
        "id": "zyAz5FGa_s9H"
      }
    },
    {
      "cell_type": "markdown",
      "source": [
        "Exercício 1: Manipulação de Listas\n",
        "Defina uma lista com 5 nomes de cidades.\n",
        "Adicione uma nova cidade ao final da lista.\n",
        "Remova a segunda cidade da lista.\n",
        "Imprima a lista resultante."
      ],
      "metadata": {
        "id": "HvrrKBO25xQH"
      }
    },
    {
      "cell_type": "code",
      "source": [
        "\n",
        "cidades = [(\"maua\"), (\"ribeirão_pires\"), (\"santo_andre\"), (\"sao_bernardo\"), (\"guapituba\")]\n",
        "print(cidades)\n",
        "cidades.append(\"cidade nova\")\n",
        "print(cidades)\n",
        "cidades.remove(\"ribeirão_pires\")\n",
        "print(cidades)"
      ],
      "metadata": {
        "id": "aZBs0Af62uLm"
      },
      "execution_count": 1,
      "outputs": []
    },
    {
      "cell_type": "markdown",
      "source": [
        "Exercício 2: Operações com Tuplas\n",
        "Defina uma tupla com 4 cores.\n",
        "Crie uma nova tupla que seja a concatenação da tupla original com outra contendo mais 2 cores.\n",
        "Imprima a nova tupla."
      ],
      "metadata": {
        "id": "K8C4ZrjZ6Eyk"
      }
    },
    {
      "cell_type": "code",
      "source": [
        "cores = (\"verde\", \"roxo\", \"vermelho\", \"marrom\")\n",
        "cores2 = cores + (\"amarelo\", \"magenta\")\n",
        "print(cores2)"
      ],
      "metadata": {
        "id": "RJINYs5h6ARU"
      },
      "execution_count": null,
      "outputs": []
    },
    {
      "cell_type": "markdown",
      "source": [
        "Exercício 3: Dicionários Simples\n",
        "Crie um dicionário para representar um aluno, contendo \"nome\", \"idade\" e \"curso\".\n",
        "\n",
        "Atualize a idade do aluno.\n",
        "Adicione uma nova chave \"nota\" com um valor.\n",
        "Imprima o dicionário atualizado"
      ],
      "metadata": {
        "id": "00gpmALS6IWD"
      }
    },
    {
      "cell_type": "code",
      "source": [
        "aluno = {\"nome\": \"Matheus\", \"idade\": 14, \"curso\": \"infonet\"}\n",
        "\n",
        "print(aluno)\n",
        "\n",
        "aluno[\"idade\"] = 15\n",
        "\n",
        "print(aluno)\n",
        "\n",
        "aluno[\"nota\"] = 10\n",
        "\n",
        "print(aluno)\n"
      ],
      "metadata": {
        "id": "UZwQ2M4j6DWs"
      },
      "execution_count": null,
      "outputs": []
    },
    {
      "cell_type": "markdown",
      "source": [
        "Exercício 4: Listas e Dicionários\n",
        "Crie uma lista de dicionários, onde cada dicionário representa um produto com as chaves \"nome\" e \"preço\".\n",
        "Adicione um novo produto à lista.\n",
        "Atualize o preço do primeiro produto na lista.\n",
        "Imprima a lista resultante."
      ],
      "metadata": {
        "id": "vksiiPcF69RS"
      }
    },
    {
      "cell_type": "code",
      "source": [
        "produto1 = {\"nome\": \"sarcas\", \"preço\": 1250}\n",
        "produto2 = {\"nome\": \"bungas\", \"preço\": 5202}\n",
        "produto3 = {\"nome\": \"jarcas\", \"preço\": 6520}\n",
        "\n",
        "produtos = [produto1, produto2]\n",
        "print(produtos)\n",
        "produtos.append(produto3)\n",
        "print(produtos)\n",
        "produto1[\"preço\"] = 2500\n",
        "print(produtos)"
      ],
      "metadata": {
        "colab": {
          "base_uri": "https://localhost:8080/"
        },
        "id": "07XJot_b7Szp",
        "outputId": "cc5a44e1-9ccc-4e62-a3df-8254f7038a52"
      },
      "execution_count": 12,
      "outputs": [
        {
          "output_type": "stream",
          "name": "stdout",
          "text": [
            "[{'nome': 'sarcas', 'preço': 1250}, {'nome': 'bungas', 'preço': 5202}]\n",
            "[{'nome': 'sarcas', 'preço': 1250}, {'nome': 'bungas', 'preço': 5202}, {'nome': 'jarcas', 'preço': 6520}]\n",
            "[{'nome': 'sarcas', 'preço': 2500}, {'nome': 'bungas', 'preço': 5202}, {'nome': 'jarcas', 'preço': 6520}]\n"
          ]
        }
      ]
    },
    {
      "cell_type": "markdown",
      "source": [
        "Exercício 5: Analisando uma Lista de Tuplas\n",
        "Crie uma lista de tuplas, onde cada tupla contém um par (nome, idade).\n",
        "Encontre e imprima o nome da pessoa mais velha.\n",
        "Encontre e imprima a idade média das pessoas."
      ],
      "metadata": {
        "id": "wQEj_Ehp7Ev6"
      }
    },
    {
      "cell_type": "code",
      "source": [
        "Nome_idade = [(\"cintia\", 21), (\"matheus\", 15), (\"João\",35), (\"Joaquim\", 25)]\n",
        "nome_velho = \"\"\n",
        "idade_maior = 0\n",
        "\n",
        "if idade_maior < Nome_idade[0][1]:\n",
        "  idade_maior = Nome_idade[0][1]\n",
        "  nome_velho = Nome_idade[0][0]\n",
        "\n",
        "if idade_maior < Nome_idade[1][1]:\n",
        "  idade_maior = Nome_idade[1][1]\n",
        "  nome_velho = Nome_idade[1][0]\n",
        "\n",
        "if idade_maior < Nome_idade[2][1]:\n",
        "  idade_maior = Nome_idade[2][1]\n",
        "  nome_velho = Nome_idade[2][0]\n",
        "\n",
        "if idade_maior < Nome_idade[3][1]:\n",
        "  idade_maior = Nome_idade[3][1]\n",
        "  nome_velho = Nome_idade[3][0]\n",
        "\n",
        "media = Nome_idade[0][1] + Nome_idade[1][1] + Nome_idade[2][1] + Nome_idade[3][1] / 4\n",
        "media_sem_decimais = (int(media))"
      ],
      "metadata": {
        "id": "2bKi75fp7G5q"
      },
      "execution_count": null,
      "outputs": []
    }
  ]
}