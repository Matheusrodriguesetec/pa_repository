{
  "nbformat": 4,
  "nbformat_minor": 0,
  "metadata": {
    "colab": {
      "provenance": [],
      "authorship_tag": "ABX9TyO4QOWswkjmj1HnGOv1Jhd4",
      "include_colab_link": true
    },
    "kernelspec": {
      "name": "python3",
      "display_name": "Python 3"
    },
    "language_info": {
      "name": "python"
    }
  },
  "cells": [
    {
      "cell_type": "markdown",
      "metadata": {
        "id": "view-in-github",
        "colab_type": "text"
      },
      "source": [
        "<a href=\"https://colab.research.google.com/github/Matheusrodriguesetec/pa_repository/blob/main/lista_tupla_dicionario_sting/exercicios.ipynb\" target=\"_parent\"><img src=\"https://colab.research.google.com/assets/colab-badge.svg\" alt=\"Open In Colab\"/></a>"
      ]
    },
    {
      "cell_type": "code",
      "execution_count": 2,
      "metadata": {
        "colab": {
          "base_uri": "https://localhost:8080/"
        },
        "id": "_6mZIXKL2Fh3",
        "outputId": "716d04b1-8cab-4c18-cff8-37f007fe5345"
      },
      "outputs": [
        {
          "output_type": "stream",
          "name": "stdout",
          "text": [
            "11\n",
            "me dê uma frase: laeae\n",
            "laeae\n",
            "dê-me uma palavra: eaeal\n",
            "dê-me a segunda palavra: leael\n",
            "suas palavras não são palindromas\n",
            "sua primeira palavra não é palindroma com ela mesma\n",
            "sua segunda palavra é palindroma a ela mesma\n"
          ]
        }
      ],
      "source": [
        "#exercícios de sting\n",
        "\n",
        "# 1 - Use o método len para imprimir o comprimento da string.\n",
        "x = \"Hello World\"\n",
        "print(len(x))\n",
        "\n",
        "# 2 - Obtenha o primeiro caractere da string txt.\n",
        "txt = \"Hello World\"\n",
        "txt[0]\n",
        "\n",
        "# 3 - Obtenha os caracteres do índice 2 ao índice 4 ( llo).\n",
        "txt = \"Hello World\"\n",
        "txt[2: -6:]\n",
        "\n",
        "# 4 - Converta o valor de txt para maiúsculas.\n",
        "txt = \"Hello World\"\n",
        "txt.upper()\n",
        "\n",
        "# 5 - Conte quantas vezes aparece a palavra \"de\" na string abaixo\n",
        "txt = \"Eu gosto de vijar, tomar vinho, de estudar estudar programação, de estudar Pyhon\"\n",
        "txt.count('de')\n",
        "\n",
        "# 6 - Separe a frase abaixo toda vez que encontrar um vírgula\n",
        "txt = \"Eu gosto de vijar, tomar vinho, de estudar estudar programação, de estudar Pyhon\"\n",
        "txt.split(\",\")\n",
        "\n",
        "#7 - Peça ao usuário uma frase e substitua todas as ocorrências de espaço por “#”.\n",
        "\n",
        "ate = input(str(\"me dê uma frase: \"))\n",
        "uma = ate.replace(\" \", \"#\")\n",
        "print(uma)\n",
        "\n",
        "# 8 - Faça um programa que retorne True se duas strings lidas do teclado são palíndromas mútuas, ou seja, se uma é igual à outra quando lida de traz para frente ou False, se não forem.\n",
        "# Por exemplo: amor e roma\n",
        "\n",
        "str1 = input(str(\"dê-me uma palavra: \"))\n",
        "str2 = input(str(\"dê-me a segunda palavra: \"))\n",
        "\n",
        "str1 = str1.lower()\n",
        "str2 = str2.lower()\n",
        "\n",
        "pros = str1[::-1] == str2\n",
        "if pros == True:\n",
        "  print('suas palavras são palindromas')\n",
        "else: print('suas palavras não são palindromas')\n",
        "\n",
        "pros2 = str1[::-1] == str1\n",
        "if pros2 == True:\n",
        "  print('sua primeira palavra é palindroma a ela mesma')\n",
        "else: print('sua primeira palavra não é palindroma com ela mesma')\n",
        "\n",
        "pros3 = str2[::-1] == str2\n",
        "if pros3 == True:\n",
        "  print('sua segunda palavra é palindroma a ela mesma')\n",
        "else: print('sua segunda palavra não é palindroma com ela mesma')"
      ]
    },
    {
      "cell_type": "code",
      "source": [
        "#exercicio 1\n",
        "\n",
        "cidades = [(\"maua\"), (\"ribeirão_pires\"), (\"santo_andre\"), (\"sao_bernardo\"), (\"guapituba\")]\n",
        "print(cidades)\n",
        "cidades.append(\"cidade nova\")\n",
        "print(cidades)\n",
        "cidades.remove(\"ribeirão_pires\")\n",
        "print(cidades)\n",
        "\n",
        "# exercicio 2\n",
        "\n",
        "cores = (\"verde\", \"roxo\", \"vermelho\", \"marrom\")\n",
        "cores2 = cores + (\"amarelo\", \"magenta\")\n",
        "print(cores2)\n",
        "\n",
        "#exercicio 3\n",
        "\n"
      ],
      "metadata": {
        "id": "aZBs0Af62uLm"
      },
      "execution_count": 1,
      "outputs": []
    }
  ]
}